{
 "cells": [
  {
   "cell_type": "markdown",
   "id": "b53e33a5",
   "metadata": {},
   "source": [
    "1. Declare two variables, `x` and `y`, and assign them integer values. Swap the\n",
    "values of these variables without using any temporary variable."
   ]
  },
  {
   "cell_type": "code",
   "execution_count": 6,
   "id": "36a6a9eb",
   "metadata": {},
   "outputs": [
    {
     "name": "stdout",
     "output_type": "stream",
     "text": [
      "values before swapping:\n",
      "x:  10\n",
      "y:  15\n"
     ]
    }
   ],
   "source": [
    "#declare variable \n",
    "x,y=10,15\n",
    "#before swapping the variable\n",
    "print(\"values before swapping:\")\n",
    "print(\"x: \",x)\n",
    "print(\"y: \",y)"
   ]
  },
  {
   "cell_type": "code",
   "execution_count": 7,
   "id": "8d3e7932",
   "metadata": {},
   "outputs": [
    {
     "name": "stdout",
     "output_type": "stream",
     "text": [
      "after swapping the variable:\n",
      "x:  15\n",
      "y:  10\n"
     ]
    }
   ],
   "source": [
    "x=x+y\n",
    "y=x-y\n",
    "x=x-y\n",
    "print(\"after swapping the variable:\")\n",
    "print(\"x: \",x)\n",
    "print(\"y: \",y)"
   ]
  },
  {
   "cell_type": "markdown",
   "id": "95fcf1ad",
   "metadata": {},
   "source": [
    "2.Create a program that calculates the area of a rectangle. Take the length and\n",
    "width as inputs from the user and store them in variables. Calculate and\n",
    "display the area."
   ]
  },
  {
   "cell_type": "code",
   "execution_count": 12,
   "id": "30b360c0",
   "metadata": {},
   "outputs": [
    {
     "name": "stdout",
     "output_type": "stream",
     "text": [
      "enter the width:15\n",
      "enter the length:10\n",
      "The width of rectangle is:  15 the length of rectangle is:  10\n",
      "Area of rectangle :  150\n"
     ]
    }
   ],
   "source": [
    "#declare and innput two variable\n",
    "width=int(input(\"enter the width:\"))\n",
    "length=int(input(\"enter the length:\"))\n",
    "#print the value of width and length\n",
    "print(\"The width of rectangle is: \",width,\"the length of rectangle is: \",length)\n",
    "print(\"Area of rectangle : \", length*width)"
   ]
  },
  {
   "cell_type": "markdown",
   "id": "e7eb2150",
   "metadata": {},
   "source": [
    "3. Write a Python program that converts temperatures from Celsius to\n",
    "Fahrenheit. Take the temperature in Celsius as input, store it in a variable,\n",
    "convert it to Fahrenheit, and display the result."
   ]
  },
  {
   "cell_type": "code",
   "execution_count": 16,
   "id": "983f2082",
   "metadata": {},
   "outputs": [
    {
     "name": "stdout",
     "output_type": "stream",
     "text": [
      "Input temperature in Celcius : 50\n",
      "Temperature in Fahrenheit :  122.0\n"
     ]
    }
   ],
   "source": [
    "# take user input in degree celcius\n",
    "temp_cel = float(input(\"Input temperature in Celcius : \"))\n",
    "# convert user input in degree farenheit\n",
    "temp_fah = (temp_cel*9/5)+32\n",
    "# display the result in farenheit\n",
    "print(\"Temperature in Fahrenheit : \", temp_fah)"
   ]
  },
  {
   "cell_type": "markdown",
   "id": "e4deb0c0",
   "metadata": {},
   "source": [
    "# TOPIC: String Based Questions\n"
   ]
  },
  {
   "cell_type": "markdown",
   "id": "acfad67d",
   "metadata": {},
   "source": [
    "1. Write a Python program that takes a string as input and prints the length of\n",
    "the string."
   ]
  },
  {
   "cell_type": "code",
   "execution_count": 17,
   "id": "cf7ce259",
   "metadata": {},
   "outputs": [
    {
     "name": "stdout",
     "output_type": "stream",
     "text": [
      "enter the string:asish\n",
      "the length of the string is: 5\n"
     ]
    }
   ],
   "source": [
    "#input \n",
    "su=input(\"enter the string:\")\n",
    "print(\"the length of the string is:\",len(su))"
   ]
  },
  {
   "cell_type": "markdown",
   "id": "90da8dbb",
   "metadata": {},
   "source": [
    "2. Create a program that takes a sentence from the user and counts the number\n",
    "of vowels (a, e, i, o, u) in the string.\n"
   ]
  },
  {
   "cell_type": "code",
   "execution_count": 18,
   "id": "27b21aa8",
   "metadata": {},
   "outputs": [
    {
     "name": "stdout",
     "output_type": "stream",
     "text": [
      "Enter a sentence: asish kua\n",
      "Number of vowels in the sentence: 4\n"
     ]
    }
   ],
   "source": [
    "def count_vowels(sentence):\n",
    "    vowels = \"aeiouAEIOU\"\n",
    "    vowel_count = 0\n",
    "\n",
    "    for char in sentence:\n",
    "        if char in vowels:\n",
    "            vowel_count += 1\n",
    "\n",
    "    return vowel_count\n",
    "\n",
    "user_input = input(\"Enter a sentence: \")\n",
    "result = count_vowels(user_input)\n",
    "print(f\"Number of vowels in the sentence: {result}\")\n"
   ]
  },
  {
   "cell_type": "markdown",
   "id": "4db100c7",
   "metadata": {},
   "source": [
    "3. Given a string, reverse the order of characters using string slicing and print\n",
    "the reversed string."
   ]
  },
  {
   "cell_type": "code",
   "execution_count": 23,
   "id": "8cd9e6e4",
   "metadata": {},
   "outputs": [
    {
     "name": "stdout",
     "output_type": "stream",
     "text": [
      "hsisa\n",
      "h\n"
     ]
    }
   ],
   "source": [
    "#take input\n",
    "u=\"asish\"\n",
    "print(u[4::-1])\n"
   ]
  },
  {
   "cell_type": "markdown",
   "id": "7a24d97e",
   "metadata": {},
   "source": [
    "4. Write a program that takes a string as input and checks if it is a palindrome\n",
    "(reads the same forwards and backwards)."
   ]
  },
  {
   "cell_type": "code",
   "execution_count": 30,
   "id": "2f0b5428",
   "metadata": {},
   "outputs": [
    {
     "name": "stdout",
     "output_type": "stream",
     "text": [
      "Enter a string : asa\n",
      "Is palindrome :  True\n"
     ]
    }
   ],
   "source": [
    "# check if the string is palindrome or not by displaying a boolean value\n",
    "s = str(input(\"Enter a string : \"))\n",
    "s_rev = s[::-1]\n",
    "print(\"Is palindrome : \", s == s_rev)"
   ]
  },
  {
   "cell_type": "markdown",
   "id": "acabaab3",
   "metadata": {},
   "source": [
    "5. Create a program that takes a string as input and removes all the spaces from\n",
    "it. Print the modified string without spaces."
   ]
  },
  {
   "cell_type": "code",
   "execution_count": 31,
   "id": "900da3e2",
   "metadata": {},
   "outputs": [
    {
     "name": "stdout",
     "output_type": "stream",
     "text": [
      "Enter a string :    asshh\n",
      "String without spaces : asshh\n"
     ]
    }
   ],
   "source": [
    "# take user input as sting and strip all the white spaces from the sring\n",
    "s = str(input(\"Enter a string : \"))\n",
    "lst = s.split()\n",
    "print(\"String without spaces :\", \"\".join(lst))"
   ]
  },
  {
   "cell_type": "code",
   "execution_count": null,
   "id": "56002cad",
   "metadata": {},
   "outputs": [],
   "source": []
  }
 ],
 "metadata": {
  "kernelspec": {
   "display_name": "Python 3 (ipykernel)",
   "language": "python",
   "name": "python3"
  },
  "language_info": {
   "codemirror_mode": {
    "name": "ipython",
    "version": 3
   },
   "file_extension": ".py",
   "mimetype": "text/x-python",
   "name": "python",
   "nbconvert_exporter": "python",
   "pygments_lexer": "ipython3",
   "version": "3.11.3"
  }
 },
 "nbformat": 4,
 "nbformat_minor": 5
}
